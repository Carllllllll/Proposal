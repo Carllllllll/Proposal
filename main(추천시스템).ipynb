{
  "nbformat": 4,
  "nbformat_minor": 0,
  "metadata": {
    "colab": {
      "name": "main(추천시스템).ipynb",
      "provenance": [],
      "collapsed_sections": [],
      "authorship_tag": "ABX9TyOhV8fsNCExuGNUjDP9loJv",
      "include_colab_link": true
    },
    "kernelspec": {
      "name": "python3",
      "display_name": "Python 3"
    },
    "language_info": {
      "name": "python"
    }
  },
  "cells": [
    {
      "cell_type": "markdown",
      "metadata": {
        "id": "view-in-github",
        "colab_type": "text"
      },
      "source": [
        "<a href=\"https://colab.research.google.com/github/Carllllllll/Proposal/blob/main/main(%EC%B6%94%EC%B2%9C%EC%8B%9C%EC%8A%A4%ED%85%9C).ipynb\" target=\"_parent\"><img src=\"https://colab.research.google.com/assets/colab-badge.svg\" alt=\"Open In Colab\"/></a>"
      ]
    },
    {
      "cell_type": "code",
      "execution_count": null,
      "metadata": {
        "id": "DEDjMwWTOuZt"
      },
      "outputs": [],
      "source": [
        "import numpy as np\n",
        "from numpy import dot\n",
        "from numpy.linalg import norm"
      ]
    },
    {
      "cell_type": "code",
      "source": [
        "def cos_sim(A, B):\n",
        "  return dot(A, B)/(norm(A)*norm(B))"
      ],
      "metadata": {
        "id": "6xcTWjxOPMzm"
      },
      "execution_count": null,
      "outputs": []
    },
    {
      "cell_type": "code",
      "source": [
        "doc1 = np.array([0,1,1,1])\n",
        "doc2 = np.array([1,0,1,1])\n",
        "doc3 = np.array([2,0,2,2])"
      ],
      "metadata": {
        "id": "iR3PXgHwPPBZ"
      },
      "execution_count": null,
      "outputs": []
    },
    {
      "cell_type": "code",
      "source": [
        "doc1 = np.array([0,1,1,1])\n",
        "doc2 = np.array([1,0,1,1])\n",
        "doc3 = np.array([2,0,2,2])"
      ],
      "metadata": {
        "id": "DwncdIUIPR4s"
      },
      "execution_count": null,
      "outputs": []
    },
    {
      "cell_type": "code",
      "source": [
        "import pandas as pd\n",
        "from sklearn.feature_extraction.text import TfidfVectorizer\n",
        "from sklearn.metrics.pairwise import cosine_similarity"
      ],
      "metadata": {
        "id": "Gd-Is-wEPVT6"
      },
      "execution_count": null,
      "outputs": []
    },
    {
      "cell_type": "code",
      "source": [
        "from google.colab import drive\n",
        "drive.mount('/content/drive', force_remount=True)"
      ],
      "metadata": {
        "colab": {
          "base_uri": "https://localhost:8080/"
        },
        "id": "dBlGwNQ9PlZV",
        "outputId": "76f246d1-29e1-4c8f-cd32-a4df106fb2b3"
      },
      "execution_count": null,
      "outputs": [
        {
          "output_type": "stream",
          "name": "stdout",
          "text": [
            "Mounted at /content/drive\n"
          ]
        }
      ]
    },
    {
      "cell_type": "code",
      "source": [
        "import os\n",
        "data = pd.read_excel(os.getcwd() + '/drive/MyDrive/Proposal/data/propo1.xlsx', index_col=None, header=1)"
      ],
      "metadata": {
        "id": "WqmLMQflPpLX"
      },
      "execution_count": null,
      "outputs": []
    },
    {
      "cell_type": "code",
      "source": [
        "data.head(2)"
      ],
      "metadata": {
        "colab": {
          "base_uri": "https://localhost:8080/",
          "height": 602
        },
        "id": "48-MgWrWPxoK",
        "outputId": "4672756c-84aa-4688-81de-34d09ffdcd82"
      },
      "execution_count": null,
      "outputs": [
        {
          "output_type": "execute_result",
          "data": {
            "text/plain": [
              "   제안번호                    제안일  제안자     제안자사번 제안자 직책  부문   지역본부       부서  \\\n",
              "0   NaN  2021-12-10 2:29:15 PM  서희원  311364.0   5급사원  영업  AM1본부  강서AM사업부   \n",
              "1   NaN  2021-12-10 2:11:32 PM  강다혜  312438.0   5급사원  영업  AM2본부  강북AM사업부   \n",
              "\n",
              "         팀          팀코드  ... 기실시건 성과우수 매출증대 사업비절감 고객만족도 향상  민원감소 인력절감  \\\n",
              "0  신중앙AM지점  HDMF_7E0200  ...  NaN  NaN  NaN   NaN      2.0   2.0  NaN   \n",
              "1   광희AM지점  HDMF_22A300  ...  NaN  NaN  NaN   NaN      2.0   NaN  NaN   \n",
              "\n",
              "                                                제안내용  검토의견 기타  \n",
              "0  1. 제안배경      * 제안 사항의 현황/프로세스 또는 개선대상/문제점 작성  ...   NaN  1  \n",
              "1  1. 제안배경      * 제안 사항의 현황/프로세스 또는 개선대상/문제점 작성  ...   NaN  1  \n",
              "\n",
              "[2 rows x 55 columns]"
            ],
            "text/html": [
              "\n",
              "  <div id=\"df-acf15ffa-e1e8-4228-a240-6be3fd3cdbc1\">\n",
              "    <div class=\"colab-df-container\">\n",
              "      <div>\n",
              "<style scoped>\n",
              "    .dataframe tbody tr th:only-of-type {\n",
              "        vertical-align: middle;\n",
              "    }\n",
              "\n",
              "    .dataframe tbody tr th {\n",
              "        vertical-align: top;\n",
              "    }\n",
              "\n",
              "    .dataframe thead th {\n",
              "        text-align: right;\n",
              "    }\n",
              "</style>\n",
              "<table border=\"1\" class=\"dataframe\">\n",
              "  <thead>\n",
              "    <tr style=\"text-align: right;\">\n",
              "      <th></th>\n",
              "      <th>제안번호</th>\n",
              "      <th>제안일</th>\n",
              "      <th>제안자</th>\n",
              "      <th>제안자사번</th>\n",
              "      <th>제안자 직책</th>\n",
              "      <th>부문</th>\n",
              "      <th>지역본부</th>\n",
              "      <th>부서</th>\n",
              "      <th>팀</th>\n",
              "      <th>팀코드</th>\n",
              "      <th>...</th>\n",
              "      <th>기실시건</th>\n",
              "      <th>성과우수</th>\n",
              "      <th>매출증대</th>\n",
              "      <th>사업비절감</th>\n",
              "      <th>고객만족도 향상</th>\n",
              "      <th>민원감소</th>\n",
              "      <th>인력절감</th>\n",
              "      <th>제안내용</th>\n",
              "      <th>검토의견</th>\n",
              "      <th>기타</th>\n",
              "    </tr>\n",
              "  </thead>\n",
              "  <tbody>\n",
              "    <tr>\n",
              "      <th>0</th>\n",
              "      <td>NaN</td>\n",
              "      <td>2021-12-10 2:29:15 PM</td>\n",
              "      <td>서희원</td>\n",
              "      <td>311364.0</td>\n",
              "      <td>5급사원</td>\n",
              "      <td>영업</td>\n",
              "      <td>AM1본부</td>\n",
              "      <td>강서AM사업부</td>\n",
              "      <td>신중앙AM지점</td>\n",
              "      <td>HDMF_7E0200</td>\n",
              "      <td>...</td>\n",
              "      <td>NaN</td>\n",
              "      <td>NaN</td>\n",
              "      <td>NaN</td>\n",
              "      <td>NaN</td>\n",
              "      <td>2.0</td>\n",
              "      <td>2.0</td>\n",
              "      <td>NaN</td>\n",
              "      <td>1. 제안배경      * 제안 사항의 현황/프로세스 또는 개선대상/문제점 작성  ...</td>\n",
              "      <td>NaN</td>\n",
              "      <td>1</td>\n",
              "    </tr>\n",
              "    <tr>\n",
              "      <th>1</th>\n",
              "      <td>NaN</td>\n",
              "      <td>2021-12-10 2:11:32 PM</td>\n",
              "      <td>강다혜</td>\n",
              "      <td>312438.0</td>\n",
              "      <td>5급사원</td>\n",
              "      <td>영업</td>\n",
              "      <td>AM2본부</td>\n",
              "      <td>강북AM사업부</td>\n",
              "      <td>광희AM지점</td>\n",
              "      <td>HDMF_22A300</td>\n",
              "      <td>...</td>\n",
              "      <td>NaN</td>\n",
              "      <td>NaN</td>\n",
              "      <td>NaN</td>\n",
              "      <td>NaN</td>\n",
              "      <td>2.0</td>\n",
              "      <td>NaN</td>\n",
              "      <td>NaN</td>\n",
              "      <td>1. 제안배경      * 제안 사항의 현황/프로세스 또는 개선대상/문제점 작성  ...</td>\n",
              "      <td>NaN</td>\n",
              "      <td>1</td>\n",
              "    </tr>\n",
              "  </tbody>\n",
              "</table>\n",
              "<p>2 rows × 55 columns</p>\n",
              "</div>\n",
              "      <button class=\"colab-df-convert\" onclick=\"convertToInteractive('df-acf15ffa-e1e8-4228-a240-6be3fd3cdbc1')\"\n",
              "              title=\"Convert this dataframe to an interactive table.\"\n",
              "              style=\"display:none;\">\n",
              "        \n",
              "  <svg xmlns=\"http://www.w3.org/2000/svg\" height=\"24px\"viewBox=\"0 0 24 24\"\n",
              "       width=\"24px\">\n",
              "    <path d=\"M0 0h24v24H0V0z\" fill=\"none\"/>\n",
              "    <path d=\"M18.56 5.44l.94 2.06.94-2.06 2.06-.94-2.06-.94-.94-2.06-.94 2.06-2.06.94zm-11 1L8.5 8.5l.94-2.06 2.06-.94-2.06-.94L8.5 2.5l-.94 2.06-2.06.94zm10 10l.94 2.06.94-2.06 2.06-.94-2.06-.94-.94-2.06-.94 2.06-2.06.94z\"/><path d=\"M17.41 7.96l-1.37-1.37c-.4-.4-.92-.59-1.43-.59-.52 0-1.04.2-1.43.59L10.3 9.45l-7.72 7.72c-.78.78-.78 2.05 0 2.83L4 21.41c.39.39.9.59 1.41.59.51 0 1.02-.2 1.41-.59l7.78-7.78 2.81-2.81c.8-.78.8-2.07 0-2.86zM5.41 20L4 18.59l7.72-7.72 1.47 1.35L5.41 20z\"/>\n",
              "  </svg>\n",
              "      </button>\n",
              "      \n",
              "  <style>\n",
              "    .colab-df-container {\n",
              "      display:flex;\n",
              "      flex-wrap:wrap;\n",
              "      gap: 12px;\n",
              "    }\n",
              "\n",
              "    .colab-df-convert {\n",
              "      background-color: #E8F0FE;\n",
              "      border: none;\n",
              "      border-radius: 50%;\n",
              "      cursor: pointer;\n",
              "      display: none;\n",
              "      fill: #1967D2;\n",
              "      height: 32px;\n",
              "      padding: 0 0 0 0;\n",
              "      width: 32px;\n",
              "    }\n",
              "\n",
              "    .colab-df-convert:hover {\n",
              "      background-color: #E2EBFA;\n",
              "      box-shadow: 0px 1px 2px rgba(60, 64, 67, 0.3), 0px 1px 3px 1px rgba(60, 64, 67, 0.15);\n",
              "      fill: #174EA6;\n",
              "    }\n",
              "\n",
              "    [theme=dark] .colab-df-convert {\n",
              "      background-color: #3B4455;\n",
              "      fill: #D2E3FC;\n",
              "    }\n",
              "\n",
              "    [theme=dark] .colab-df-convert:hover {\n",
              "      background-color: #434B5C;\n",
              "      box-shadow: 0px 1px 3px 1px rgba(0, 0, 0, 0.15);\n",
              "      filter: drop-shadow(0px 1px 2px rgba(0, 0, 0, 0.3));\n",
              "      fill: #FFFFFF;\n",
              "    }\n",
              "  </style>\n",
              "\n",
              "      <script>\n",
              "        const buttonEl =\n",
              "          document.querySelector('#df-acf15ffa-e1e8-4228-a240-6be3fd3cdbc1 button.colab-df-convert');\n",
              "        buttonEl.style.display =\n",
              "          google.colab.kernel.accessAllowed ? 'block' : 'none';\n",
              "\n",
              "        async function convertToInteractive(key) {\n",
              "          const element = document.querySelector('#df-acf15ffa-e1e8-4228-a240-6be3fd3cdbc1');\n",
              "          const dataTable =\n",
              "            await google.colab.kernel.invokeFunction('convertToInteractive',\n",
              "                                                     [key], {});\n",
              "          if (!dataTable) return;\n",
              "\n",
              "          const docLinkHtml = 'Like what you see? Visit the ' +\n",
              "            '<a target=\"_blank\" href=https://colab.research.google.com/notebooks/data_table.ipynb>data table notebook</a>'\n",
              "            + ' to learn more about interactive tables.';\n",
              "          element.innerHTML = '';\n",
              "          dataTable['output_type'] = 'display_data';\n",
              "          await google.colab.output.renderOutput(dataTable, element);\n",
              "          const docLink = document.createElement('div');\n",
              "          docLink.innerHTML = docLinkHtml;\n",
              "          element.appendChild(docLink);\n",
              "        }\n",
              "      </script>\n",
              "    </div>\n",
              "  </div>\n",
              "  "
            ]
          },
          "metadata": {},
          "execution_count": 11
        }
      ]
    },
    {
      "cell_type": "code",
      "source": [
        "data['제안내용'].isnull().sum()"
      ],
      "metadata": {
        "colab": {
          "base_uri": "https://localhost:8080/"
        },
        "id": "gPq3J1qUP4hb",
        "outputId": "26933e3a-11ca-444e-c82c-37cf7af1ff36"
      },
      "execution_count": null,
      "outputs": [
        {
          "output_type": "execute_result",
          "data": {
            "text/plain": [
              "106"
            ]
          },
          "metadata": {},
          "execution_count": 12
        }
      ]
    },
    {
      "cell_type": "code",
      "source": [
        "data['제안내용'] = data['제안내용'].fillna('')"
      ],
      "metadata": {
        "id": "wBoX-YhvQDMH"
      },
      "execution_count": null,
      "outputs": []
    },
    {
      "cell_type": "code",
      "source": [
        "# overview에 대해서 tf-idf 수행\n",
        "\n",
        "tfidf = TfidfVectorizer(stop_words='english')\n",
        "tfidf_matrix = tfidf.fit_transform(data['제안내용'])\n",
        "print(tfidf_matrix.shape)"
      ],
      "metadata": {
        "colab": {
          "base_uri": "https://localhost:8080/"
        },
        "id": "KSZljcJFQKOm",
        "outputId": "5b8382d1-8b3b-47b6-a1c2-985ab91f2cb1"
      },
      "execution_count": null,
      "outputs": [
        {
          "output_type": "stream",
          "name": "stdout",
          "text": [
            "(2554, 36556)\n"
          ]
        }
      ]
    },
    {
      "cell_type": "code",
      "source": [
        "cosine_sim = cosine_similarity(tfidf_matrix, tfidf_matrix)"
      ],
      "metadata": {
        "id": "rtG0UtyuQPPK"
      },
      "execution_count": null,
      "outputs": []
    },
    {
      "cell_type": "code",
      "source": [
        "indices = pd.Series(data.index, index=data['제목']).drop_duplicates()\n",
        "print(indices.head())"
      ],
      "metadata": {
        "colab": {
          "base_uri": "https://localhost:8080/"
        },
        "id": "MifHjt0oQT43",
        "outputId": "ca45f847-37ff-442a-935a-92b5997a022a"
      },
      "execution_count": null,
      "outputs": [
        {
          "output_type": "stream",
          "name": "stdout",
          "text": [
            "제목\n",
            "갱신 알림톡 발송 화면 조회구분 개선             0\n",
            "완전판매시스템 현소속지점 기준으로 조회가능하도록 개선    1\n",
            "철회 환급시 구비 서류 증빙                  2\n",
            "이관고객관리 활동프로세스 관리대상변경요청           3\n",
            "이관 메모기능 추가                       4\n",
            "dtype: int64\n"
          ]
        }
      ]
    },
    {
      "cell_type": "code",
      "source": [
        "idx = indices['갱신 알림톡 발송 화면 조회구분 개선']\n",
        "print(idx)"
      ],
      "metadata": {
        "colab": {
          "base_uri": "https://localhost:8080/"
        },
        "id": "aQa73oBDQcw7",
        "outputId": "a6139649-4ade-4fc9-ac2f-0376b562cd52"
      },
      "execution_count": null,
      "outputs": [
        {
          "output_type": "stream",
          "name": "stdout",
          "text": [
            "0\n"
          ]
        }
      ]
    },
    {
      "cell_type": "code",
      "source": [
        "def get_recommendations(title, cosine_sim=cosine_sim):\n",
        "    # 선택한 영화의 타이틀로부터 해당되는 인덱스를 받아옵니다. 이제 선택한 영화를 가지고 연산할 수 있습니다.\n",
        "    idx = indices[title]\n",
        "\n",
        "    # 모든 영화에 대해서 해당 영화와의 유사도를 구합니다.\n",
        "    sim_scores = list(enumerate(cosine_sim[idx]))\n",
        "\n",
        "    # 유사도에 따라 영화들을 정렬합니다.\n",
        "    sim_scores = sorted(sim_scores, key=lambda x: x[1], reverse=True)\n",
        "\n",
        "    # 가장 유사한 10개의 영화를 받아옵니다.\n",
        "    sim_scores = sim_scores[1:11]\n",
        "\n",
        "    # 가장 유사한 10개의 영화의 인덱스를 받아옵니다.\n",
        "    movie_indices = [i[0] for i in sim_scores]\n",
        "\n",
        "    # 가장 유사한 10개의 영화의 제목을 리턴합니다.\n",
        "    return data['제목'].iloc[movie_indices]"
      ],
      "metadata": {
        "id": "YCev-IcvQmW4"
      },
      "execution_count": null,
      "outputs": []
    },
    {
      "cell_type": "code",
      "source": [
        "get_recommendations('이관 메모기능 추가')"
      ],
      "metadata": {
        "colab": {
          "base_uri": "https://localhost:8080/"
        },
        "id": "mrQuFnvUQpWu",
        "outputId": "e56b5330-4c85-4383-dbca-9a44958ebb06"
      },
      "execution_count": null,
      "outputs": [
        {
          "output_type": "execute_result",
          "data": {
            "text/plain": [
              "638                                      계속보험료 수납 처리\n",
              "2206                          영업포탈 인사정보조회 소속지점 표기 요청\n",
              "83                                      계약조회 불가 개선요청\n",
              "1413                            모집인 본인계약에 대한 모집자 서명 \n",
              "818                   변호사보수 및 소송비용 지급요청 팝업시 바로 처리 불가\n",
              "1492                                자동차 모바일 서명시 오류개선\n",
              "1211                       장기 계약변경 수납확정화면 내 스캔이미지 신설\n",
              "2038                                      신용카드 등록 관련\n",
              "230     관리계약 사전질의등록의 진단확인내역이 관리계약입력시 반영 되도록 전산 개선 요청\n",
              "548                 보험금 일괄산정 처리시 다수계약건 각각 지연사유 입력 필요\n",
              "Name: 제목, dtype: object"
            ]
          },
          "metadata": {},
          "execution_count": 25
        }
      ]
    },
    {
      "cell_type": "code",
      "source": [
        ""
      ],
      "metadata": {
        "id": "epF8uVU7QvC5"
      },
      "execution_count": null,
      "outputs": []
    }
  ]
}